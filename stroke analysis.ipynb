{
 "cells": [
  {
   "cell_type": "code",
   "execution_count": 1,
   "id": "industrial-mobility",
   "metadata": {
    "_cell_guid": "b1076dfc-b9ad-4769-8c92-a6c4dae69d19",
    "_uuid": "8f2839f25d086af736a60e9eeb907d3b93b6e0e5",
    "execution": {
     "iopub.execute_input": "2021-05-22T05:17:48.655948Z",
     "iopub.status.busy": "2021-05-22T05:17:48.654747Z",
     "iopub.status.idle": "2021-05-22T05:17:48.669705Z",
     "shell.execute_reply": "2021-05-22T05:17:48.670503Z",
     "shell.execute_reply.started": "2021-05-22T05:17:02.556321Z"
    },
    "papermill": {
     "duration": 0.07109,
     "end_time": "2021-05-22T05:17:48.670909",
     "exception": false,
     "start_time": "2021-05-22T05:17:48.599819",
     "status": "completed"
    },
    "tags": []
   },
   "outputs": [
    {
     "name": "stdout",
     "output_type": "stream",
     "text": [
      "/kaggle/input/stroke-prediction-dataset/healthcare-dataset-stroke-data.csv\n"
     ]
    }
   ],
   "source": [
    "# This Python 3 environment comes with many helpful analytics libraries installed\n",
    "# It is defined by the kaggle/python Docker image: https://github.com/kaggle/docker-python\n",
    "# For example, here's several helpful packages to load\n",
    "\n",
    "import numpy as np # linear algebra\n",
    "import pandas as pd # data processing, CSV file I/O (e.g. pd.read_csv)\n",
    "\n",
    "# Input data files are available in the read-only \"../input/\" directory\n",
    "# For example, running this (by clicking run or pressing Shift+Enter) will list all files under the input directory\n",
    "\n",
    "import os\n",
    "for dirname, _, filenames in os.walk('/kaggle/input'):\n",
    "    for filename in filenames:\n",
    "        print(os.path.join(dirname, filename))\n",
    "\n",
    "# You can write up to 20GB to the current directory (/kaggle/working/) that gets preserved as output when you create a version using \"Save & Run All\" \n",
    "# You can also write temporary files to /kaggle/temp/, but they won't be saved outside of the current session"
   ]
  },
  {
   "cell_type": "code",
   "execution_count": 2,
   "id": "arranged-adaptation",
   "metadata": {
    "execution": {
     "iopub.execute_input": "2021-05-22T05:17:48.776974Z",
     "iopub.status.busy": "2021-05-22T05:17:48.776320Z",
     "iopub.status.idle": "2021-05-22T05:17:49.736728Z",
     "shell.execute_reply": "2021-05-22T05:17:49.736030Z",
     "shell.execute_reply.started": "2021-05-22T05:17:02.615176Z"
    },
    "papermill": {
     "duration": 1.013806,
     "end_time": "2021-05-22T05:17:49.736871",
     "exception": false,
     "start_time": "2021-05-22T05:17:48.723065",
     "status": "completed"
    },
    "tags": []
   },
   "outputs": [],
   "source": [
    "import pandas as pd\n",
    "import numpy as np\n",
    "import matplotlib.pyplot as plt\n",
    "import seaborn as sns\n",
    "%matplotlib inline"
   ]
  },
  {
   "cell_type": "code",
   "execution_count": 3,
   "id": "armed-appearance",
   "metadata": {
    "execution": {
     "iopub.execute_input": "2021-05-22T05:17:49.840171Z",
     "iopub.status.busy": "2021-05-22T05:17:49.839438Z",
     "iopub.status.idle": "2021-05-22T05:17:49.867317Z",
     "shell.execute_reply": "2021-05-22T05:17:49.866712Z",
     "shell.execute_reply.started": "2021-05-22T05:17:02.689995Z"
    },
    "papermill": {
     "duration": 0.082168,
     "end_time": "2021-05-22T05:17:49.867482",
     "exception": false,
     "start_time": "2021-05-22T05:17:49.785314",
     "status": "completed"
    },
    "tags": []
   },
   "outputs": [],
   "source": [
    "dataset=pd.read_csv('../input/stroke-prediction-dataset/healthcare-dataset-stroke-data.csv')"
   ]
  },
  {
   "cell_type": "code",
   "execution_count": 4,
   "id": "advanced-sustainability",
   "metadata": {
    "execution": {
     "iopub.execute_input": "2021-05-22T05:17:49.972585Z",
     "iopub.status.busy": "2021-05-22T05:17:49.971944Z",
     "iopub.status.idle": "2021-05-22T05:17:49.975508Z",
     "shell.execute_reply": "2021-05-22T05:17:49.974856Z",
     "shell.execute_reply.started": "2021-05-22T05:17:02.712319Z"
    },
    "papermill": {
     "duration": 0.057971,
     "end_time": "2021-05-22T05:17:49.975662",
     "exception": false,
     "start_time": "2021-05-22T05:17:49.917691",
     "status": "completed"
    },
    "tags": []
   },
   "outputs": [],
   "source": [
    "data=dataset.copy()"
   ]
  },
  {
   "cell_type": "code",
   "execution_count": 5,
   "id": "worst-prophet",
   "metadata": {
    "execution": {
     "iopub.execute_input": "2021-05-22T05:17:50.086888Z",
     "iopub.status.busy": "2021-05-22T05:17:50.085919Z",
     "iopub.status.idle": "2021-05-22T05:17:50.112567Z",
     "shell.execute_reply": "2021-05-22T05:17:50.113025Z",
     "shell.execute_reply.started": "2021-05-22T05:17:02.765061Z"
    },
    "papermill": {
     "duration": 0.088148,
     "end_time": "2021-05-22T05:17:50.113196",
     "exception": false,
     "start_time": "2021-05-22T05:17:50.025048",
     "status": "completed"
    },
    "tags": []
   },
   "outputs": [
    {
     "data": {
      "text/html": [
       "<div>\n",
       "<style scoped>\n",
       "    .dataframe tbody tr th:only-of-type {\n",
       "        vertical-align: middle;\n",
       "    }\n",
       "\n",
       "    .dataframe tbody tr th {\n",
       "        vertical-align: top;\n",
       "    }\n",
       "\n",
       "    .dataframe thead th {\n",
       "        text-align: right;\n",
       "    }\n",
       "</style>\n",
       "<table border=\"1\" class=\"dataframe\">\n",
       "  <thead>\n",
       "    <tr style=\"text-align: right;\">\n",
       "      <th></th>\n",
       "      <th>id</th>\n",
       "      <th>gender</th>\n",
       "      <th>age</th>\n",
       "      <th>hypertension</th>\n",
       "      <th>heart_disease</th>\n",
       "      <th>ever_married</th>\n",
       "      <th>work_type</th>\n",
       "      <th>Residence_type</th>\n",
       "      <th>avg_glucose_level</th>\n",
       "      <th>bmi</th>\n",
       "      <th>smoking_status</th>\n",
       "      <th>stroke</th>\n",
       "    </tr>\n",
       "  </thead>\n",
       "  <tbody>\n",
       "    <tr>\n",
       "      <th>0</th>\n",
       "      <td>9046</td>\n",
       "      <td>Male</td>\n",
       "      <td>67.0</td>\n",
       "      <td>0</td>\n",
       "      <td>1</td>\n",
       "      <td>Yes</td>\n",
       "      <td>Private</td>\n",
       "      <td>Urban</td>\n",
       "      <td>228.69</td>\n",
       "      <td>36.6</td>\n",
       "      <td>formerly smoked</td>\n",
       "      <td>1</td>\n",
       "    </tr>\n",
       "    <tr>\n",
       "      <th>1</th>\n",
       "      <td>51676</td>\n",
       "      <td>Female</td>\n",
       "      <td>61.0</td>\n",
       "      <td>0</td>\n",
       "      <td>0</td>\n",
       "      <td>Yes</td>\n",
       "      <td>Self-employed</td>\n",
       "      <td>Rural</td>\n",
       "      <td>202.21</td>\n",
       "      <td>NaN</td>\n",
       "      <td>never smoked</td>\n",
       "      <td>1</td>\n",
       "    </tr>\n",
       "    <tr>\n",
       "      <th>2</th>\n",
       "      <td>31112</td>\n",
       "      <td>Male</td>\n",
       "      <td>80.0</td>\n",
       "      <td>0</td>\n",
       "      <td>1</td>\n",
       "      <td>Yes</td>\n",
       "      <td>Private</td>\n",
       "      <td>Rural</td>\n",
       "      <td>105.92</td>\n",
       "      <td>32.5</td>\n",
       "      <td>never smoked</td>\n",
       "      <td>1</td>\n",
       "    </tr>\n",
       "    <tr>\n",
       "      <th>3</th>\n",
       "      <td>60182</td>\n",
       "      <td>Female</td>\n",
       "      <td>49.0</td>\n",
       "      <td>0</td>\n",
       "      <td>0</td>\n",
       "      <td>Yes</td>\n",
       "      <td>Private</td>\n",
       "      <td>Urban</td>\n",
       "      <td>171.23</td>\n",
       "      <td>34.4</td>\n",
       "      <td>smokes</td>\n",
       "      <td>1</td>\n",
       "    </tr>\n",
       "    <tr>\n",
       "      <th>4</th>\n",
       "      <td>1665</td>\n",
       "      <td>Female</td>\n",
       "      <td>79.0</td>\n",
       "      <td>1</td>\n",
       "      <td>0</td>\n",
       "      <td>Yes</td>\n",
       "      <td>Self-employed</td>\n",
       "      <td>Rural</td>\n",
       "      <td>174.12</td>\n",
       "      <td>24.0</td>\n",
       "      <td>never smoked</td>\n",
       "      <td>1</td>\n",
       "    </tr>\n",
       "  </tbody>\n",
       "</table>\n",
       "</div>"
      ],
      "text/plain": [
       "      id  gender   age  hypertension  heart_disease ever_married  \\\n",
       "0   9046    Male  67.0             0              1          Yes   \n",
       "1  51676  Female  61.0             0              0          Yes   \n",
       "2  31112    Male  80.0             0              1          Yes   \n",
       "3  60182  Female  49.0             0              0          Yes   \n",
       "4   1665  Female  79.0             1              0          Yes   \n",
       "\n",
       "       work_type Residence_type  avg_glucose_level   bmi   smoking_status  \\\n",
       "0        Private          Urban             228.69  36.6  formerly smoked   \n",
       "1  Self-employed          Rural             202.21   NaN     never smoked   \n",
       "2        Private          Rural             105.92  32.5     never smoked   \n",
       "3        Private          Urban             171.23  34.4           smokes   \n",
       "4  Self-employed          Rural             174.12  24.0     never smoked   \n",
       "\n",
       "   stroke  \n",
       "0       1  \n",
       "1       1  \n",
       "2       1  \n",
       "3       1  \n",
       "4       1  "
      ]
     },
     "execution_count": 5,
     "metadata": {},
     "output_type": "execute_result"
    }
   ],
   "source": [
    "data.head()"
   ]
  },
  {
   "cell_type": "code",
   "execution_count": 6,
   "id": "least-mechanics",
   "metadata": {
    "execution": {
     "iopub.execute_input": "2021-05-22T05:17:50.216608Z",
     "iopub.status.busy": "2021-05-22T05:17:50.215626Z",
     "iopub.status.idle": "2021-05-22T05:17:50.451489Z",
     "shell.execute_reply": "2021-05-22T05:17:50.451976Z",
     "shell.execute_reply.started": "2021-05-22T05:17:02.785848Z"
    },
    "papermill": {
     "duration": 0.288304,
     "end_time": "2021-05-22T05:17:50.452169",
     "exception": false,
     "start_time": "2021-05-22T05:17:50.163865",
     "status": "completed"
    },
    "tags": []
   },
   "outputs": [],
   "source": [
    "from sklearn.model_selection import StratifiedShuffleSplit\n",
    "split=StratifiedShuffleSplit(n_splits=1,test_size=0.2,random_state=42)\n",
    "for train_index,test_index in split.split(data,data['stroke']):\n",
    "  strat_train_set=data.loc[train_index]\n",
    "  strat_test_set=data.loc[test_index]"
   ]
  },
  {
   "cell_type": "code",
   "execution_count": 7,
   "id": "incorporate-steel",
   "metadata": {
    "execution": {
     "iopub.execute_input": "2021-05-22T05:17:50.557767Z",
     "iopub.status.busy": "2021-05-22T05:17:50.557099Z",
     "iopub.status.idle": "2021-05-22T05:17:50.562122Z",
     "shell.execute_reply": "2021-05-22T05:17:50.562691Z",
     "shell.execute_reply.started": "2021-05-22T05:17:02.801851Z"
    },
    "papermill": {
     "duration": 0.058973,
     "end_time": "2021-05-22T05:17:50.562912",
     "exception": false,
     "start_time": "2021-05-22T05:17:50.503939",
     "status": "completed"
    },
    "tags": []
   },
   "outputs": [],
   "source": [
    "data=strat_train_set.copy()"
   ]
  },
  {
   "cell_type": "code",
   "execution_count": 8,
   "id": "colonial-stockholm",
   "metadata": {
    "execution": {
     "iopub.execute_input": "2021-05-22T05:17:50.667554Z",
     "iopub.status.busy": "2021-05-22T05:17:50.666713Z",
     "iopub.status.idle": "2021-05-22T05:17:50.670450Z",
     "shell.execute_reply": "2021-05-22T05:17:50.670919Z",
     "shell.execute_reply.started": "2021-05-22T05:17:02.812926Z"
    },
    "papermill": {
     "duration": 0.057553,
     "end_time": "2021-05-22T05:17:50.671265",
     "exception": false,
     "start_time": "2021-05-22T05:17:50.613712",
     "status": "completed"
    },
    "tags": []
   },
   "outputs": [],
   "source": [
    "predictor_variables=list(data.columns)"
   ]
  },
  {
   "cell_type": "code",
   "execution_count": 9,
   "id": "labeled-barcelona",
   "metadata": {
    "execution": {
     "iopub.execute_input": "2021-05-22T05:17:50.775422Z",
     "iopub.status.busy": "2021-05-22T05:17:50.774720Z",
     "iopub.status.idle": "2021-05-22T05:17:50.777689Z",
     "shell.execute_reply": "2021-05-22T05:17:50.778249Z",
     "shell.execute_reply.started": "2021-05-22T05:17:02.825418Z"
    },
    "papermill": {
     "duration": 0.058078,
     "end_time": "2021-05-22T05:17:50.778424",
     "exception": false,
     "start_time": "2021-05-22T05:17:50.720346",
     "status": "completed"
    },
    "tags": []
   },
   "outputs": [],
   "source": [
    "predictor_variables.remove('stroke')"
   ]
  },
  {
   "cell_type": "code",
   "execution_count": 10,
   "id": "central-struggle",
   "metadata": {
    "execution": {
     "iopub.execute_input": "2021-05-22T05:17:50.883313Z",
     "iopub.status.busy": "2021-05-22T05:17:50.882465Z",
     "iopub.status.idle": "2021-05-22T05:17:50.885474Z",
     "shell.execute_reply": "2021-05-22T05:17:50.884834Z",
     "shell.execute_reply.started": "2021-05-22T05:17:02.855417Z"
    },
    "papermill": {
     "duration": 0.057688,
     "end_time": "2021-05-22T05:17:50.885618",
     "exception": false,
     "start_time": "2021-05-22T05:17:50.827930",
     "status": "completed"
    },
    "tags": []
   },
   "outputs": [],
   "source": [
    "target_variables=['stroke']"
   ]
  },
  {
   "cell_type": "code",
   "execution_count": 11,
   "id": "hispanic-buddy",
   "metadata": {
    "execution": {
     "iopub.execute_input": "2021-05-22T05:17:50.989301Z",
     "iopub.status.busy": "2021-05-22T05:17:50.988557Z",
     "iopub.status.idle": "2021-05-22T05:17:50.993450Z",
     "shell.execute_reply": "2021-05-22T05:17:50.993929Z",
     "shell.execute_reply.started": "2021-05-22T05:17:02.865065Z"
    },
    "papermill": {
     "duration": 0.058772,
     "end_time": "2021-05-22T05:17:50.994110",
     "exception": false,
     "start_time": "2021-05-22T05:17:50.935338",
     "status": "completed"
    },
    "tags": []
   },
   "outputs": [],
   "source": [
    "character_variables=[variable for variable in data.columns if data[variable].dtypes=='O']"
   ]
  },
  {
   "cell_type": "code",
   "execution_count": 12,
   "id": "optimum-carpet",
   "metadata": {
    "execution": {
     "iopub.execute_input": "2021-05-22T05:17:51.099323Z",
     "iopub.status.busy": "2021-05-22T05:17:51.098696Z",
     "iopub.status.idle": "2021-05-22T05:17:51.103658Z",
     "shell.execute_reply": "2021-05-22T05:17:51.104154Z",
     "shell.execute_reply.started": "2021-05-22T05:17:02.877529Z"
    },
    "papermill": {
     "duration": 0.059936,
     "end_time": "2021-05-22T05:17:51.104343",
     "exception": false,
     "start_time": "2021-05-22T05:17:51.044407",
     "status": "completed"
    },
    "tags": []
   },
   "outputs": [
    {
     "data": {
      "text/plain": [
       "['gender', 'ever_married', 'work_type', 'Residence_type', 'smoking_status']"
      ]
     },
     "execution_count": 12,
     "metadata": {},
     "output_type": "execute_result"
    }
   ],
   "source": [
    "character_variables"
   ]
  },
  {
   "cell_type": "code",
   "execution_count": 13,
   "id": "immediate-landscape",
   "metadata": {
    "execution": {
     "iopub.execute_input": "2021-05-22T05:17:51.207088Z",
     "iopub.status.busy": "2021-05-22T05:17:51.206467Z",
     "iopub.status.idle": "2021-05-22T05:17:51.210447Z",
     "shell.execute_reply": "2021-05-22T05:17:51.210903Z",
     "shell.execute_reply.started": "2021-05-22T05:17:02.892225Z"
    },
    "papermill": {
     "duration": 0.056639,
     "end_time": "2021-05-22T05:17:51.211077",
     "exception": false,
     "start_time": "2021-05-22T05:17:51.154438",
     "status": "completed"
    },
    "tags": []
   },
   "outputs": [],
   "source": [
    "numeric_variables=[variable for variable in data.columns if data[variable].dtypes!='O']"
   ]
  },
  {
   "cell_type": "code",
   "execution_count": 14,
   "id": "activated-friday",
   "metadata": {
    "execution": {
     "iopub.execute_input": "2021-05-22T05:17:51.313762Z",
     "iopub.status.busy": "2021-05-22T05:17:51.313097Z",
     "iopub.status.idle": "2021-05-22T05:17:51.318604Z",
     "shell.execute_reply": "2021-05-22T05:17:51.317905Z",
     "shell.execute_reply.started": "2021-05-22T05:17:02.904598Z"
    },
    "papermill": {
     "duration": 0.05744,
     "end_time": "2021-05-22T05:17:51.318752",
     "exception": false,
     "start_time": "2021-05-22T05:17:51.261312",
     "status": "completed"
    },
    "tags": []
   },
   "outputs": [
    {
     "data": {
      "text/plain": [
       "['id',\n",
       " 'age',\n",
       " 'hypertension',\n",
       " 'heart_disease',\n",
       " 'avg_glucose_level',\n",
       " 'bmi',\n",
       " 'stroke']"
      ]
     },
     "execution_count": 14,
     "metadata": {},
     "output_type": "execute_result"
    }
   ],
   "source": [
    "numeric_variables"
   ]
  },
  {
   "cell_type": "code",
   "execution_count": 15,
   "id": "acoustic-crash",
   "metadata": {
    "execution": {
     "iopub.execute_input": "2021-05-22T05:17:51.424435Z",
     "iopub.status.busy": "2021-05-22T05:17:51.423774Z",
     "iopub.status.idle": "2021-05-22T05:17:51.443620Z",
     "shell.execute_reply": "2021-05-22T05:17:51.444149Z",
     "shell.execute_reply.started": "2021-05-22T05:17:02.976518Z"
    },
    "papermill": {
     "duration": 0.072933,
     "end_time": "2021-05-22T05:17:51.444341",
     "exception": false,
     "start_time": "2021-05-22T05:17:51.371408",
     "status": "completed"
    },
    "tags": []
   },
   "outputs": [],
   "source": [
    "categorical_variables=[feature for feature in data.columns if len(data[feature].value_counts())<25]"
   ]
  },
  {
   "cell_type": "code",
   "execution_count": 16,
   "id": "liable-funeral",
   "metadata": {
    "execution": {
     "iopub.execute_input": "2021-05-22T05:17:51.552694Z",
     "iopub.status.busy": "2021-05-22T05:17:51.552021Z",
     "iopub.status.idle": "2021-05-22T05:17:51.556637Z",
     "shell.execute_reply": "2021-05-22T05:17:51.557163Z",
     "shell.execute_reply.started": "2021-05-22T05:17:03.055456Z"
    },
    "papermill": {
     "duration": 0.061048,
     "end_time": "2021-05-22T05:17:51.557380",
     "exception": false,
     "start_time": "2021-05-22T05:17:51.496332",
     "status": "completed"
    },
    "tags": []
   },
   "outputs": [
    {
     "data": {
      "text/plain": [
       "8"
      ]
     },
     "execution_count": 16,
     "metadata": {},
     "output_type": "execute_result"
    }
   ],
   "source": [
    "len(categorical_variables)"
   ]
  },
  {
   "cell_type": "code",
   "execution_count": 17,
   "id": "economic-honey",
   "metadata": {
    "execution": {
     "iopub.execute_input": "2021-05-22T05:17:51.664483Z",
     "iopub.status.busy": "2021-05-22T05:17:51.663782Z",
     "iopub.status.idle": "2021-05-22T05:17:51.679477Z",
     "shell.execute_reply": "2021-05-22T05:17:51.679977Z",
     "shell.execute_reply.started": "2021-05-22T05:17:03.094748Z"
    },
    "papermill": {
     "duration": 0.070127,
     "end_time": "2021-05-22T05:17:51.680165",
     "exception": false,
     "start_time": "2021-05-22T05:17:51.610038",
     "status": "completed"
    },
    "tags": []
   },
   "outputs": [],
   "source": [
    "continuous_variables=[feature for feature in data.columns if len(data[feature].value_counts())>25]"
   ]
  },
  {
   "cell_type": "code",
   "execution_count": 18,
   "id": "secret-receipt",
   "metadata": {
    "execution": {
     "iopub.execute_input": "2021-05-22T05:17:51.786797Z",
     "iopub.status.busy": "2021-05-22T05:17:51.786142Z",
     "iopub.status.idle": "2021-05-22T05:17:51.789047Z",
     "shell.execute_reply": "2021-05-22T05:17:51.789587Z",
     "shell.execute_reply.started": "2021-05-22T05:17:03.129446Z"
    },
    "papermill": {
     "duration": 0.05773,
     "end_time": "2021-05-22T05:17:51.789754",
     "exception": false,
     "start_time": "2021-05-22T05:17:51.732024",
     "status": "completed"
    },
    "tags": []
   },
   "outputs": [
    {
     "data": {
      "text/plain": [
       "4"
      ]
     },
     "execution_count": 18,
     "metadata": {},
     "output_type": "execute_result"
    }
   ],
   "source": [
    "len(continuous_variables)"
   ]
  },
  {
   "cell_type": "code",
   "execution_count": 19,
   "id": "center-halloween",
   "metadata": {
    "execution": {
     "iopub.execute_input": "2021-05-22T05:17:51.894814Z",
     "iopub.status.busy": "2021-05-22T05:17:51.894175Z",
     "iopub.status.idle": "2021-05-22T05:17:51.897999Z",
     "shell.execute_reply": "2021-05-22T05:17:51.898506Z",
     "shell.execute_reply.started": "2021-05-22T05:17:03.138261Z"
    },
    "papermill": {
     "duration": 0.057945,
     "end_time": "2021-05-22T05:17:51.898682",
     "exception": false,
     "start_time": "2021-05-22T05:17:51.840737",
     "status": "completed"
    },
    "tags": []
   },
   "outputs": [],
   "source": [
    "##Univariate analysis"
   ]
  },
  {
   "cell_type": "code",
   "execution_count": 20,
   "id": "stainless-medline",
   "metadata": {
    "execution": {
     "iopub.execute_input": "2021-05-22T05:17:52.008703Z",
     "iopub.status.busy": "2021-05-22T05:17:52.003567Z",
     "iopub.status.idle": "2021-05-22T05:17:52.030903Z",
     "shell.execute_reply": "2021-05-22T05:17:52.030375Z",
     "shell.execute_reply.started": "2021-05-22T05:17:03.150780Z"
    },
    "papermill": {
     "duration": 0.081778,
     "end_time": "2021-05-22T05:17:52.031049",
     "exception": false,
     "start_time": "2021-05-22T05:17:51.949271",
     "status": "completed"
    },
    "tags": []
   },
   "outputs": [
    {
     "data": {
      "text/html": [
       "<div>\n",
       "<style scoped>\n",
       "    .dataframe tbody tr th:only-of-type {\n",
       "        vertical-align: middle;\n",
       "    }\n",
       "\n",
       "    .dataframe tbody tr th {\n",
       "        vertical-align: top;\n",
       "    }\n",
       "\n",
       "    .dataframe thead th {\n",
       "        text-align: right;\n",
       "    }\n",
       "</style>\n",
       "<table border=\"1\" class=\"dataframe\">\n",
       "  <thead>\n",
       "    <tr style=\"text-align: right;\">\n",
       "      <th></th>\n",
       "      <th>id</th>\n",
       "      <th>age</th>\n",
       "      <th>avg_glucose_level</th>\n",
       "      <th>bmi</th>\n",
       "    </tr>\n",
       "  </thead>\n",
       "  <tbody>\n",
       "    <tr>\n",
       "      <th>count</th>\n",
       "      <td>4088.000000</td>\n",
       "      <td>4088.000000</td>\n",
       "      <td>4088.000000</td>\n",
       "      <td>3918.000000</td>\n",
       "    </tr>\n",
       "    <tr>\n",
       "      <th>mean</th>\n",
       "      <td>36547.666585</td>\n",
       "      <td>43.353288</td>\n",
       "      <td>106.317167</td>\n",
       "      <td>28.922180</td>\n",
       "    </tr>\n",
       "    <tr>\n",
       "      <th>std</th>\n",
       "      <td>21238.482961</td>\n",
       "      <td>22.596816</td>\n",
       "      <td>45.259652</td>\n",
       "      <td>7.928378</td>\n",
       "    </tr>\n",
       "    <tr>\n",
       "      <th>min</th>\n",
       "      <td>77.000000</td>\n",
       "      <td>0.080000</td>\n",
       "      <td>55.120000</td>\n",
       "      <td>10.300000</td>\n",
       "    </tr>\n",
       "    <tr>\n",
       "      <th>25%</th>\n",
       "      <td>17621.500000</td>\n",
       "      <td>26.000000</td>\n",
       "      <td>77.312500</td>\n",
       "      <td>23.600000</td>\n",
       "    </tr>\n",
       "    <tr>\n",
       "      <th>50%</th>\n",
       "      <td>36963.500000</td>\n",
       "      <td>45.000000</td>\n",
       "      <td>91.945000</td>\n",
       "      <td>28.000000</td>\n",
       "    </tr>\n",
       "    <tr>\n",
       "      <th>75%</th>\n",
       "      <td>54787.750000</td>\n",
       "      <td>61.000000</td>\n",
       "      <td>114.197500</td>\n",
       "      <td>33.100000</td>\n",
       "    </tr>\n",
       "    <tr>\n",
       "      <th>max</th>\n",
       "      <td>72940.000000</td>\n",
       "      <td>82.000000</td>\n",
       "      <td>271.740000</td>\n",
       "      <td>97.600000</td>\n",
       "    </tr>\n",
       "  </tbody>\n",
       "</table>\n",
       "</div>"
      ],
      "text/plain": [
       "                 id          age  avg_glucose_level          bmi\n",
       "count   4088.000000  4088.000000        4088.000000  3918.000000\n",
       "mean   36547.666585    43.353288         106.317167    28.922180\n",
       "std    21238.482961    22.596816          45.259652     7.928378\n",
       "min       77.000000     0.080000          55.120000    10.300000\n",
       "25%    17621.500000    26.000000          77.312500    23.600000\n",
       "50%    36963.500000    45.000000          91.945000    28.000000\n",
       "75%    54787.750000    61.000000         114.197500    33.100000\n",
       "max    72940.000000    82.000000         271.740000    97.600000"
      ]
     },
     "execution_count": 20,
     "metadata": {},
     "output_type": "execute_result"
    }
   ],
   "source": [
    "data[continuous_variables].describe()"
   ]
  },
  {
   "cell_type": "code",
   "execution_count": 21,
   "id": "considered-sarah",
   "metadata": {
    "execution": {
     "iopub.execute_input": "2021-05-22T05:17:52.141472Z",
     "iopub.status.busy": "2021-05-22T05:17:52.140794Z",
     "iopub.status.idle": "2021-05-22T05:17:53.517154Z",
     "shell.execute_reply": "2021-05-22T05:17:53.516512Z",
     "shell.execute_reply.started": "2021-05-22T05:17:03.225700Z"
    },
    "papermill": {
     "duration": 1.433947,
     "end_time": "2021-05-22T05:17:53.517311",
     "exception": false,
     "start_time": "2021-05-22T05:17:52.083364",
     "status": "completed"
    },
    "tags": []
   },
   "outputs": [
    {
     "name": "stderr",
     "output_type": "stream",
     "text": [
      "/opt/conda/lib/python3.7/site-packages/pandas/plotting/_matplotlib/tools.py:400: MatplotlibDeprecationWarning: \n",
      "The is_first_col function was deprecated in Matplotlib 3.4 and will be removed two minor releases later. Use ax.get_subplotspec().is_first_col() instead.\n",
      "  if ax.is_first_col():\n"
     ]
    },
    {
     "data": {
      "image/png": "[encoded data removed]",
      "text/plain": [
       "<Figure size 1440x1080 with 4 Axes>"
      ]
     },
     "metadata": {
      "needs_background": "light"
     },
     "output_type": "display_data"
    }
   ],
   "source": [
    "data[continuous_variables].hist(bins=100,figsize=(20,15))\n",
    "plt.show()"
   ]
  },
  {
   "cell_type": "code",
   "execution_count": 22,
   "id": "blank-diagram",
   "metadata": {
    "execution": {
     "iopub.execute_input": "2021-05-22T05:17:53.631998Z",
     "iopub.status.busy": "2021-05-22T05:17:53.630951Z",
     "iopub.status.idle": "2021-05-22T05:17:54.162975Z",
     "shell.execute_reply": "2021-05-22T05:17:54.162467Z",
     "shell.execute_reply.started": "2021-05-22T05:17:04.705996Z"
    },
    "papermill": {
     "duration": 0.592716,
     "end_time": "2021-05-22T05:17:54.163137",
     "exception": false,
     "start_time": "2021-05-22T05:17:53.570421",
     "status": "completed"
    },
    "tags": []
   },
   "outputs": [
    {
     "data": {
      "image/png": "[encoded data removed]",
      "text/plain": [
       "<Figure size 432x288 with 1 Axes>"
      ]
     },
     "metadata": {},
     "output_type": "display_data"
    },
    {
     "data": {
      "image/png": "[encoded data removed]",
      "text/plain": [
       "<Figure size 432x288 with 1 Axes>"
      ]
     },
     "metadata": {},
     "output_type": "display_data"
    },
    {
     "data": {
      "image/png": "[encoded data removed]",
      "text/plain": [
       "<Figure size 432x288 with 1 Axes>"
      ]
     },
     "metadata": {},
     "output_type": "display_data"
    },
    {
     "data": {
      "image/png": "[encoded data removed]",
      "text/plain": [
       "<Figure size 432x288 with 1 Axes>"
      ]
     },
     "metadata": {},
     "output_type": "display_data"
    }
   ],
   "source": [
    "sns.set_theme(style=\"whitegrid\")\n",
    "for feature in continuous_variables:\n",
    "  sns.boxplot(y=data[feature])\n",
    "  plt.show()"
   ]
  },
  {
   "cell_type": "code",
   "execution_count": 23,
   "id": "prescribed-spirit",
   "metadata": {
    "execution": {
     "iopub.execute_input": "2021-05-22T05:17:54.280763Z",
     "iopub.status.busy": "2021-05-22T05:17:54.280103Z",
     "iopub.status.idle": "2021-05-22T05:17:54.313720Z",
     "shell.execute_reply": "2021-05-22T05:17:54.314530Z",
     "shell.execute_reply.started": "2021-05-22T05:17:05.138387Z"
    },
    "papermill": {
     "duration": 0.095279,
     "end_time": "2021-05-22T05:17:54.314712",
     "exception": false,
     "start_time": "2021-05-22T05:17:54.219433",
     "status": "completed"
    },
    "tags": []
   },
   "outputs": [
    {
     "name": "stdout",
     "output_type": "stream",
     "text": [
      "Female    0.585861\n",
      "Male      0.413894\n",
      "Other     0.000245\n",
      "Name: gender, dtype: float64\n",
      "0    0.902886\n",
      "1    0.097114\n",
      "Name: hypertension, dtype: float64\n",
      "0    0.945939\n",
      "1    0.054061\n",
      "Name: heart_disease, dtype: float64\n",
      "Yes    0.66047\n",
      "No     0.33953\n",
      "Name: ever_married, dtype: float64\n",
      "Private          0.570450\n",
      "Self-employed    0.163160\n",
      "children         0.135519\n",
      "Govt_job         0.127691\n",
      "Never_worked     0.003180\n",
      "Name: work_type, dtype: float64\n",
      "Urban    0.506115\n",
      "Rural    0.493885\n",
      "Name: Residence_type, dtype: float64\n",
      "never smoked       0.367172\n",
      "Unknown            0.305039\n",
      "formerly smoked    0.174658\n",
      "smokes             0.153131\n",
      "Name: smoking_status, dtype: float64\n",
      "0    0.951321\n",
      "1    0.048679\n",
      "Name: stroke, dtype: float64\n"
     ]
    }
   ],
   "source": [
    "for feature in categorical_variables:\n",
    "  print((data[feature].value_counts()/len(data)))"
   ]
  },
  {
   "cell_type": "code",
   "execution_count": 24,
   "id": "supposed-newton",
   "metadata": {
    "execution": {
     "iopub.execute_input": "2021-05-22T05:17:54.435604Z",
     "iopub.status.busy": "2021-05-22T05:17:54.434762Z",
     "iopub.status.idle": "2021-05-22T05:17:55.634147Z",
     "shell.execute_reply": "2021-05-22T05:17:55.633566Z",
     "shell.execute_reply.started": "2021-05-22T05:17:05.164190Z"
    },
    "papermill": {
     "duration": 1.264306,
     "end_time": "2021-05-22T05:17:55.634310",
     "exception": false,
     "start_time": "2021-05-22T05:17:54.370004",
     "status": "completed"
    },
    "tags": []
   },
   "outputs": [
    {
     "data": {
      "image/png": "[encoded data removed]",
      "text/plain": [
       "<Figure size 432x288 with 1 Axes>"
      ]
     },
     "metadata": {},
     "output_type": "display_data"
    },
    {
     "data": {
      "text/plain": [
       "<Figure size 360x360 with 0 Axes>"
      ]
     },
     "metadata": {},
     "output_type": "display_data"
    },
    {
     "data": {
      "image/png": "[encoded data removed]",
      "text/plain": [
       "<Figure size 432x288 with 1 Axes>"
      ]
     },
     "metadata": {},
     "output_type": "display_data"
    },
    {
     "data": {
      "text/plain": [
       "<Figure size 360x360 with 0 Axes>"
      ]
     },
     "metadata": {},
     "output_type": "display_data"
    },
    {
     "data": {
      "image/png": "[encoded data removed]",
      "text/plain": [
       "<Figure size 432x288 with 1 Axes>"
      ]
     },
     "metadata": {},
     "output_type": "display_data"
    },
    {
     "data": {
      "text/plain": [
       "<Figure size 360x360 with 0 Axes>"
      ]
     },
     "metadata": {},
     "output_type": "display_data"
    },
    {
     "data": {
      "image/png": "[encoded data removed]",
      "text/plain": [
       "<Figure size 432x288 with 1 Axes>"
      ]
     },
     "metadata": {},
     "output_type": "display_data"
    },
    {
     "data": {
      "text/plain": [
       "<Figure size 360x360 with 0 Axes>"
      ]
     },
     "metadata": {},
     "output_type": "display_data"
    },
    {
     "data": {
      "image/png": "[encoded data removed]",
      "text/plain": [
       "<Figure size 432x288 with 1 Axes>"
      ]
     },
     "metadata": {},
     "output_type": "display_data"
    },
    {
     "data": {
      "text/plain": [
       "<Figure size 360x360 with 0 Axes>"
      ]
     },
     "metadata": {},
     "output_type": "display_data"
    },
    {
     "data": {
      "image/png": "[encoded data removed]",
      "text/plain": [
       "<Figure size 432x288 with 1 Axes>"
      ]
     },
     "metadata": {},
     "output_type": "display_data"
    },
    {
     "data": {
      "text/plain": [
       "<Figure size 360x360 with 0 Axes>"
      ]
     },
     "metadata": {},
     "output_type": "display_data"
    },
    {
     "data": {
      "image/png": "[encoded data removed]",
      "text/plain": [
       "<Figure size 432x288 with 1 Axes>"
      ]
     },
     "metadata": {},
     "output_type": "display_data"
    },
    {
     "data": {
      "text/plain": [
       "<Figure size 360x360 with 0 Axes>"
      ]
     },
     "metadata": {},
     "output_type": "display_data"
    },
    {
     "data": {
      "image/png": "[encoded data removed]",
      "text/plain": [
       "<Figure size 432x288 with 1 Axes>"
      ]
     },
     "metadata": {},
     "output_type": "display_data"
    },
    {
     "data": {
      "text/plain": [
       "<Figure size 360x360 with 0 Axes>"
      ]
     },
     "metadata": {},
     "output_type": "display_data"
    }
   ],
   "source": [
    "for feature in categorical_variables:\n",
    "  data[feature].value_counts().plot(kind='bar')\n",
    "  plt.figure(figsize=(5,5))\n",
    "  plt.show()"
   ]
  },
  {
   "cell_type": "code",
   "execution_count": 25,
   "id": "sitting-christmas",
   "metadata": {
    "execution": {
     "iopub.execute_input": "2021-05-22T05:17:55.770572Z",
     "iopub.status.busy": "2021-05-22T05:17:55.769854Z",
     "iopub.status.idle": "2021-05-22T05:17:55.772637Z",
     "shell.execute_reply": "2021-05-22T05:17:55.772016Z",
     "shell.execute_reply.started": "2021-05-22T05:17:06.344509Z"
    },
    "papermill": {
     "duration": 0.071679,
     "end_time": "2021-05-22T05:17:55.772774",
     "exception": false,
     "start_time": "2021-05-22T05:17:55.701095",
     "status": "completed"
    },
    "tags": []
   },
   "outputs": [],
   "source": [
    "##bivariate analysis"
   ]
  },
  {
   "cell_type": "code",
   "execution_count": 26,
   "id": "muslim-pollution",
   "metadata": {
    "execution": {
     "iopub.execute_input": "2021-05-22T05:17:55.907163Z",
     "iopub.status.busy": "2021-05-22T05:17:55.906510Z",
     "iopub.status.idle": "2021-05-22T05:17:55.909140Z",
     "shell.execute_reply": "2021-05-22T05:17:55.908543Z",
     "shell.execute_reply.started": "2021-05-22T05:17:06.353191Z"
    },
    "papermill": {
     "duration": 0.071656,
     "end_time": "2021-05-22T05:17:55.909292",
     "exception": false,
     "start_time": "2021-05-22T05:17:55.837636",
     "status": "completed"
    },
    "tags": []
   },
   "outputs": [],
   "source": [
    "##for variable in continuous_variables:\n",
    "##    sns.boxplot(x=variable,y='stroke',data=data)\n",
    "##    plt.show()"
   ]
  },
  {
   "cell_type": "code",
   "execution_count": 27,
   "id": "later-assurance",
   "metadata": {
    "execution": {
     "iopub.execute_input": "2021-05-22T05:17:56.045931Z",
     "iopub.status.busy": "2021-05-22T05:17:56.045261Z",
     "iopub.status.idle": "2021-05-22T05:17:56.176026Z",
     "shell.execute_reply": "2021-05-22T05:17:56.175465Z",
     "shell.execute_reply.started": "2021-05-22T05:17:06.369277Z"
    },
    "papermill": {
     "duration": 0.200033,
     "end_time": "2021-05-22T05:17:56.176169",
     "exception": false,
     "start_time": "2021-05-22T05:17:55.976136",
     "status": "completed"
    },
    "tags": []
   },
   "outputs": [
    {
     "name": "stdout",
     "output_type": "stream",
     "text": [
      "gender  Female  Male  Other\n",
      "stroke                     \n",
      "0         2283  1605      1\n",
      "1          112    87      0\n",
      "\n",
      "\n",
      "hypertension     0    1\n",
      "stroke                 \n",
      "0             3546  343\n",
      "1              145   54\n",
      "\n",
      "\n",
      "heart_disease     0    1\n",
      "stroke                  \n",
      "0              3704  185\n",
      "1               163   36\n",
      "\n",
      "\n",
      "ever_married    No   Yes\n",
      "stroke                  \n",
      "0             1365  2524\n",
      "1               23   176\n",
      "\n",
      "\n",
      "work_type  Govt_job  Never_worked  Private  Self-employed  children\n",
      "stroke                                                             \n",
      "0               494            13     2217            612       553\n",
      "1                28             0      115             55         1\n",
      "\n",
      "\n",
      "Residence_type  Rural  Urban\n",
      "stroke                      \n",
      "0                1928   1961\n",
      "1                  91    108\n",
      "\n",
      "\n",
      "smoking_status  Unknown  formerly smoked  never smoked  smokes\n",
      "stroke                                                        \n",
      "0                  1209              658          1430     592\n",
      "1                    38               56            71      34\n",
      "\n",
      "\n",
      "stroke     0    1\n",
      "stroke           \n",
      "0       3889    0\n",
      "1          0  199\n",
      "\n",
      "\n"
     ]
    }
   ],
   "source": [
    "for variable in categorical_variables:\n",
    "  data_crosstab = pd.crosstab(data['stroke'], \n",
    "                            data[variable],\n",
    "                                margins = False)\n",
    "  print(data_crosstab)\n",
    "  print('\\n')"
   ]
  },
  {
   "cell_type": "code",
   "execution_count": 28,
   "id": "brutal-vintage",
   "metadata": {
    "execution": {
     "iopub.execute_input": "2021-05-22T05:17:56.308644Z",
     "iopub.status.busy": "2021-05-22T05:17:56.307954Z",
     "iopub.status.idle": "2021-05-22T05:17:56.311370Z",
     "shell.execute_reply": "2021-05-22T05:17:56.310743Z",
     "shell.execute_reply.started": "2021-05-22T05:17:06.512333Z"
    },
    "papermill": {
     "duration": 0.071729,
     "end_time": "2021-05-22T05:17:56.311507",
     "exception": false,
     "start_time": "2021-05-22T05:17:56.239778",
     "status": "completed"
    },
    "tags": []
   },
   "outputs": [],
   "source": [
    "##Handling missing values"
   ]
  },
  {
   "cell_type": "code",
   "execution_count": 29,
   "id": "internal-azerbaijan",
   "metadata": {
    "execution": {
     "iopub.execute_input": "2021-05-22T05:17:56.443496Z",
     "iopub.status.busy": "2021-05-22T05:17:56.442746Z",
     "iopub.status.idle": "2021-05-22T05:17:56.627541Z",
     "shell.execute_reply": "2021-05-22T05:17:56.628075Z",
     "shell.execute_reply.started": "2021-05-22T05:17:06.519766Z"
    },
    "papermill": {
     "duration": 0.253172,
     "end_time": "2021-05-22T05:17:56.628265",
     "exception": false,
     "start_time": "2021-05-22T05:17:56.375093",
     "status": "completed"
    },
    "tags": []
   },
   "outputs": [],
   "source": [
    "from sklearn.impute import SimpleImputer"
   ]
  },
  {
   "cell_type": "code",
   "execution_count": 30,
   "id": "multiple-review",
   "metadata": {
    "execution": {
     "iopub.execute_input": "2021-05-22T05:17:56.770116Z",
     "iopub.status.busy": "2021-05-22T05:17:56.769154Z",
     "iopub.status.idle": "2021-05-22T05:17:56.801784Z",
     "shell.execute_reply": "2021-05-22T05:17:56.801095Z",
     "shell.execute_reply.started": "2021-05-22T05:17:06.533944Z"
    },
    "papermill": {
     "duration": 0.108649,
     "end_time": "2021-05-22T05:17:56.801927",
     "exception": false,
     "start_time": "2021-05-22T05:17:56.693278",
     "status": "completed"
    },
    "tags": []
   },
   "outputs": [],
   "source": [
    "df=data.copy()\n",
    "cat_imp=SimpleImputer(strategy='most_frequent')\n",
    "cont_imp=SimpleImputer(strategy='median')\n",
    "list_cat=[v for v in categorical_variables if v!='stroke']\n",
    "df[list_cat]=cat_imp.fit_transform(df[list_cat])\n",
    "df[continuous_variables]=cont_imp.fit_transform(df[continuous_variables])\n"
   ]
  },
  {
   "cell_type": "code",
   "execution_count": 31,
   "id": "adjusted-network",
   "metadata": {
    "execution": {
     "iopub.execute_input": "2021-05-22T05:17:56.936387Z",
     "iopub.status.busy": "2021-05-22T05:17:56.935702Z",
     "iopub.status.idle": "2021-05-22T05:17:56.939151Z",
     "shell.execute_reply": "2021-05-22T05:17:56.938602Z",
     "shell.execute_reply.started": "2021-05-22T05:17:06.584437Z"
    },
    "papermill": {
     "duration": 0.071998,
     "end_time": "2021-05-22T05:17:56.939340",
     "exception": false,
     "start_time": "2021-05-22T05:17:56.867342",
     "status": "completed"
    },
    "tags": []
   },
   "outputs": [],
   "source": [
    "data=df"
   ]
  },
  {
   "cell_type": "code",
   "execution_count": 32,
   "id": "daily-florist",
   "metadata": {
    "execution": {
     "iopub.execute_input": "2021-05-22T05:17:57.075856Z",
     "iopub.status.busy": "2021-05-22T05:17:57.074999Z",
     "iopub.status.idle": "2021-05-22T05:17:57.077582Z",
     "shell.execute_reply": "2021-05-22T05:17:57.076956Z",
     "shell.execute_reply.started": "2021-05-22T05:17:06.592154Z"
    },
    "papermill": {
     "duration": 0.07328,
     "end_time": "2021-05-22T05:17:57.077721",
     "exception": false,
     "start_time": "2021-05-22T05:17:57.004441",
     "status": "completed"
    },
    "tags": []
   },
   "outputs": [],
   "source": [
    "##outlier_detection"
   ]
  },
  {
   "cell_type": "code",
   "execution_count": null,
   "id": "operational-pregnancy",
   "metadata": {
    "papermill": {
     "duration": 0.06439,
     "end_time": "2021-05-22T05:17:57.208910",
     "exception": false,
     "start_time": "2021-05-22T05:17:57.144520",
     "status": "completed"
    },
    "tags": []
   },
   "outputs": [],
   "source": []
  },
  {
   "cell_type": "code",
   "execution_count": 33,
   "id": "extraordinary-strategy",
   "metadata": {
    "execution": {
     "iopub.execute_input": "2021-05-22T05:17:57.346383Z",
     "iopub.status.busy": "2021-05-22T05:17:57.345689Z",
     "iopub.status.idle": "2021-05-22T05:17:57.349056Z",
     "shell.execute_reply": "2021-05-22T05:17:57.349712Z",
     "shell.execute_reply.started": "2021-05-22T05:17:06.608978Z"
    },
    "papermill": {
     "duration": 0.072384,
     "end_time": "2021-05-22T05:17:57.350132",
     "exception": false,
     "start_time": "2021-05-22T05:17:57.277748",
     "status": "completed"
    },
    "tags": []
   },
   "outputs": [],
   "source": [
    "## converting character encoding"
   ]
  },
  {
   "cell_type": "code",
   "execution_count": 34,
   "id": "electoral-links",
   "metadata": {
    "execution": {
     "iopub.execute_input": "2021-05-22T05:17:57.487611Z",
     "iopub.status.busy": "2021-05-22T05:17:57.486930Z",
     "iopub.status.idle": "2021-05-22T05:17:57.494833Z",
     "shell.execute_reply": "2021-05-22T05:17:57.494295Z",
     "shell.execute_reply.started": "2021-05-22T05:17:06.622328Z"
    },
    "papermill": {
     "duration": 0.078615,
     "end_time": "2021-05-22T05:17:57.494995",
     "exception": false,
     "start_time": "2021-05-22T05:17:57.416380",
     "status": "completed"
    },
    "tags": []
   },
   "outputs": [],
   "source": [
    "from sklearn.preprocessing import OneHotEncoder\n",
    "from sklearn.pipeline import Pipeline\n",
    "from sklearn.preprocessing import StandardScaler"
   ]
  },
  {
   "cell_type": "code",
   "execution_count": 35,
   "id": "attached-india",
   "metadata": {
    "execution": {
     "iopub.execute_input": "2021-05-22T05:17:57.633412Z",
     "iopub.status.busy": "2021-05-22T05:17:57.632755Z",
     "iopub.status.idle": "2021-05-22T05:17:57.645765Z",
     "shell.execute_reply": "2021-05-22T05:17:57.643980Z",
     "shell.execute_reply.started": "2021-05-22T05:17:06.637687Z"
    },
    "papermill": {
     "duration": 0.083346,
     "end_time": "2021-05-22T05:17:57.645939",
     "exception": false,
     "start_time": "2021-05-22T05:17:57.562593",
     "status": "completed"
    },
    "tags": []
   },
   "outputs": [],
   "source": [
    "from sklearn.compose import ColumnTransformer"
   ]
  },
  {
   "cell_type": "code",
   "execution_count": 36,
   "id": "sound-relief",
   "metadata": {
    "execution": {
     "iopub.execute_input": "2021-05-22T05:17:57.782010Z",
     "iopub.status.busy": "2021-05-22T05:17:57.781334Z",
     "iopub.status.idle": "2021-05-22T05:17:57.783746Z",
     "shell.execute_reply": "2021-05-22T05:17:57.783139Z",
     "shell.execute_reply.started": "2021-05-22T05:17:06.651495Z"
    },
    "papermill": {
     "duration": 0.071482,
     "end_time": "2021-05-22T05:17:57.783887",
     "exception": false,
     "start_time": "2021-05-22T05:17:57.712405",
     "status": "completed"
    },
    "tags": []
   },
   "outputs": [],
   "source": [
    "full_pipeline=ColumnTransformer([\n",
    "                                 ('num',StandardScaler(),[variable for variable in numeric_variables if variable!='stroke']),\n",
    "                                 ('cat',OneHotEncoder(),character_variables)\n",
    "])"
   ]
  },
  {
   "cell_type": "code",
   "execution_count": 37,
   "id": "developed-subcommittee",
   "metadata": {
    "execution": {
     "iopub.execute_input": "2021-05-22T05:17:57.918057Z",
     "iopub.status.busy": "2021-05-22T05:17:57.917412Z",
     "iopub.status.idle": "2021-05-22T05:17:57.939284Z",
     "shell.execute_reply": "2021-05-22T05:17:57.939870Z",
     "shell.execute_reply.started": "2021-05-22T05:17:06.667047Z"
    },
    "papermill": {
     "duration": 0.090373,
     "end_time": "2021-05-22T05:17:57.940047",
     "exception": false,
     "start_time": "2021-05-22T05:17:57.849674",
     "status": "completed"
    },
    "tags": []
   },
   "outputs": [],
   "source": [
    "data_prepared=full_pipeline.fit_transform(data)"
   ]
  },
  {
   "cell_type": "code",
   "execution_count": 38,
   "id": "animated-smart",
   "metadata": {
    "execution": {
     "iopub.execute_input": "2021-05-22T05:17:58.074482Z",
     "iopub.status.busy": "2021-05-22T05:17:58.073855Z",
     "iopub.status.idle": "2021-05-22T05:17:58.079242Z",
     "shell.execute_reply": "2021-05-22T05:17:58.079848Z",
     "shell.execute_reply.started": "2021-05-22T05:17:06.699861Z"
    },
    "papermill": {
     "duration": 0.075618,
     "end_time": "2021-05-22T05:17:58.080020",
     "exception": false,
     "start_time": "2021-05-22T05:17:58.004402",
     "status": "completed"
    },
    "tags": []
   },
   "outputs": [
    {
     "data": {
      "text/plain": [
       "array([[-0.5304543 ,  0.20566087, -0.32796178, ...,  0.        ,\n",
       "         1.        ,  0.        ],\n",
       "       [ 0.33840517, -1.25490055, -0.32796178, ...,  0.        ,\n",
       "         1.        ,  0.        ],\n",
       "       [ 0.49752263,  1.04659017, -0.32796178, ...,  0.        ,\n",
       "         1.        ,  0.        ],\n",
       "       ...,\n",
       "       [-1.21472057,  0.78103355, -0.32796178, ...,  1.        ,\n",
       "         0.        ,  0.        ],\n",
       "       [-1.5443042 , -0.54674956, -0.32796178, ...,  0.        ,\n",
       "         0.        ,  0.        ],\n",
       "       [-0.22187286, -1.65323548, -0.32796178, ...,  0.        ,\n",
       "         0.        ,  0.        ]])"
      ]
     },
     "execution_count": 38,
     "metadata": {},
     "output_type": "execute_result"
    }
   ],
   "source": [
    "data_prepared"
   ]
  },
  {
   "cell_type": "code",
   "execution_count": 39,
   "id": "expected-monday",
   "metadata": {
    "execution": {
     "iopub.execute_input": "2021-05-22T05:17:58.212711Z",
     "iopub.status.busy": "2021-05-22T05:17:58.212063Z",
     "iopub.status.idle": "2021-05-22T05:17:58.216591Z",
     "shell.execute_reply": "2021-05-22T05:17:58.217071Z",
     "shell.execute_reply.started": "2021-05-22T05:17:06.707313Z"
    },
    "papermill": {
     "duration": 0.071859,
     "end_time": "2021-05-22T05:17:58.217256",
     "exception": false,
     "start_time": "2021-05-22T05:17:58.145397",
     "status": "completed"
    },
    "tags": []
   },
   "outputs": [
    {
     "data": {
      "text/plain": [
       "(4088, 22)"
      ]
     },
     "execution_count": 39,
     "metadata": {},
     "output_type": "execute_result"
    }
   ],
   "source": [
    "data_prepared.shape"
   ]
  },
  {
   "cell_type": "code",
   "execution_count": 40,
   "id": "historical-greensboro",
   "metadata": {
    "execution": {
     "iopub.execute_input": "2021-05-22T05:17:58.349743Z",
     "iopub.status.busy": "2021-05-22T05:17:58.349062Z",
     "iopub.status.idle": "2021-05-22T05:17:58.354237Z",
     "shell.execute_reply": "2021-05-22T05:17:58.353631Z",
     "shell.execute_reply.started": "2021-05-22T05:17:06.725483Z"
    },
    "papermill": {
     "duration": 0.072565,
     "end_time": "2021-05-22T05:17:58.354374",
     "exception": false,
     "start_time": "2021-05-22T05:17:58.281809",
     "status": "completed"
    },
    "tags": []
   },
   "outputs": [],
   "source": [
    "X=data_prepared.copy()"
   ]
  },
  {
   "cell_type": "code",
   "execution_count": 41,
   "id": "valued-third",
   "metadata": {
    "execution": {
     "iopub.execute_input": "2021-05-22T05:17:58.489533Z",
     "iopub.status.busy": "2021-05-22T05:17:58.488878Z",
     "iopub.status.idle": "2021-05-22T05:17:58.492465Z",
     "shell.execute_reply": "2021-05-22T05:17:58.492984Z",
     "shell.execute_reply.started": "2021-05-22T05:17:06.742411Z"
    },
    "papermill": {
     "duration": 0.072561,
     "end_time": "2021-05-22T05:17:58.493152",
     "exception": false,
     "start_time": "2021-05-22T05:17:58.420591",
     "status": "completed"
    },
    "tags": []
   },
   "outputs": [],
   "source": [
    "y=data['stroke']"
   ]
  },
  {
   "cell_type": "code",
   "execution_count": 42,
   "id": "printable-savage",
   "metadata": {
    "execution": {
     "iopub.execute_input": "2021-05-22T05:17:58.629619Z",
     "iopub.status.busy": "2021-05-22T05:17:58.628627Z",
     "iopub.status.idle": "2021-05-22T05:17:58.696505Z",
     "shell.execute_reply": "2021-05-22T05:17:58.695796Z",
     "shell.execute_reply.started": "2021-05-22T05:17:06.756736Z"
    },
    "papermill": {
     "duration": 0.135831,
     "end_time": "2021-05-22T05:17:58.696653",
     "exception": false,
     "start_time": "2021-05-22T05:17:58.560822",
     "status": "completed"
    },
    "tags": []
   },
   "outputs": [],
   "source": [
    "from sklearn.linear_model import LogisticRegression\n",
    "from sklearn.ensemble import RandomForestClassifier\n",
    "from sklearn.svm import SVC\n",
    "from sklearn.model_selection import cross_val_score"
   ]
  },
  {
   "cell_type": "code",
   "execution_count": 43,
   "id": "perceived-pontiac",
   "metadata": {
    "execution": {
     "iopub.execute_input": "2021-05-22T05:17:58.833683Z",
     "iopub.status.busy": "2021-05-22T05:17:58.832992Z",
     "iopub.status.idle": "2021-05-22T05:18:01.448048Z",
     "shell.execute_reply": "2021-05-22T05:18:01.448560Z",
     "shell.execute_reply.started": "2021-05-22T05:17:06.770416Z"
    },
    "papermill": {
     "duration": 2.685858,
     "end_time": "2021-05-22T05:18:01.448753",
     "exception": false,
     "start_time": "2021-05-22T05:17:58.762895",
     "status": "completed"
    },
    "tags": []
   },
   "outputs": [],
   "source": [
    "score=cross_val_score(RandomForestClassifier(max_depth=2),X,y,cv=10)"
   ]
  },
  {
   "cell_type": "code",
   "execution_count": 44,
   "id": "surprised-talent",
   "metadata": {
    "execution": {
     "iopub.execute_input": "2021-05-22T05:18:01.585838Z",
     "iopub.status.busy": "2021-05-22T05:18:01.585149Z",
     "iopub.status.idle": "2021-05-22T05:18:01.589961Z",
     "shell.execute_reply": "2021-05-22T05:18:01.590581Z",
     "shell.execute_reply.started": "2021-05-22T05:17:09.406155Z"
    },
    "papermill": {
     "duration": 0.075332,
     "end_time": "2021-05-22T05:18:01.590754",
     "exception": false,
     "start_time": "2021-05-22T05:18:01.515422",
     "status": "completed"
    },
    "tags": []
   },
   "outputs": [
    {
     "data": {
      "text/plain": [
       "0.9513213720696102"
      ]
     },
     "execution_count": 44,
     "metadata": {},
     "output_type": "execute_result"
    }
   ],
   "source": [
    "score.mean()"
   ]
  },
  {
   "cell_type": "code",
   "execution_count": 45,
   "id": "grateful-concept",
   "metadata": {
    "execution": {
     "iopub.execute_input": "2021-05-22T05:18:01.726146Z",
     "iopub.status.busy": "2021-05-22T05:18:01.725495Z",
     "iopub.status.idle": "2021-05-22T05:18:01.903023Z",
     "shell.execute_reply": "2021-05-22T05:18:01.903860Z",
     "shell.execute_reply.started": "2021-05-22T05:17:09.413876Z"
    },
    "papermill": {
     "duration": 0.247881,
     "end_time": "2021-05-22T05:18:01.904140",
     "exception": false,
     "start_time": "2021-05-22T05:18:01.656259",
     "status": "completed"
    },
    "tags": []
   },
   "outputs": [],
   "source": [
    "score=cross_val_score(LogisticRegression(),X,y,cv=3)"
   ]
  },
  {
   "cell_type": "code",
   "execution_count": 46,
   "id": "level-karma",
   "metadata": {
    "execution": {
     "iopub.execute_input": "2021-05-22T05:18:02.097441Z",
     "iopub.status.busy": "2021-05-22T05:18:02.096556Z",
     "iopub.status.idle": "2021-05-22T05:18:02.100450Z",
     "shell.execute_reply": "2021-05-22T05:18:02.100969Z",
     "shell.execute_reply.started": "2021-05-22T05:17:09.603286Z"
    },
    "papermill": {
     "duration": 0.077528,
     "end_time": "2021-05-22T05:18:02.101153",
     "exception": false,
     "start_time": "2021-05-22T05:18:02.023625",
     "status": "completed"
    },
    "tags": []
   },
   "outputs": [
    {
     "data": {
      "text/plain": [
       "0.9515655519320666"
      ]
     },
     "execution_count": 46,
     "metadata": {},
     "output_type": "execute_result"
    }
   ],
   "source": [
    "score.mean()"
   ]
  },
  {
   "cell_type": "code",
   "execution_count": 47,
   "id": "lightweight-borough",
   "metadata": {
    "execution": {
     "iopub.execute_input": "2021-05-22T05:18:02.242980Z",
     "iopub.status.busy": "2021-05-22T05:18:02.242335Z",
     "iopub.status.idle": "2021-05-22T05:18:02.766274Z",
     "shell.execute_reply": "2021-05-22T05:18:02.765582Z",
     "shell.execute_reply.started": "2021-05-22T05:17:09.612842Z"
    },
    "papermill": {
     "duration": 0.596592,
     "end_time": "2021-05-22T05:18:02.766412",
     "exception": false,
     "start_time": "2021-05-22T05:18:02.169820",
     "status": "completed"
    },
    "tags": []
   },
   "outputs": [],
   "source": [
    "score=cross_val_score(SVC(),X,y,cv=3)"
   ]
  },
  {
   "cell_type": "code",
   "execution_count": 48,
   "id": "identified-arena",
   "metadata": {
    "execution": {
     "iopub.execute_input": "2021-05-22T05:18:02.902134Z",
     "iopub.status.busy": "2021-05-22T05:18:02.901196Z",
     "iopub.status.idle": "2021-05-22T05:18:02.906092Z",
     "shell.execute_reply": "2021-05-22T05:18:02.905559Z",
     "shell.execute_reply.started": "2021-05-22T05:17:10.212055Z"
    },
    "papermill": {
     "duration": 0.074994,
     "end_time": "2021-05-22T05:18:02.906251",
     "exception": false,
     "start_time": "2021-05-22T05:18:02.831257",
     "status": "completed"
    },
    "tags": []
   },
   "outputs": [
    {
     "data": {
      "text/plain": [
       "0.9513209933602886"
      ]
     },
     "execution_count": 48,
     "metadata": {},
     "output_type": "execute_result"
    }
   ],
   "source": [
    "score.mean()"
   ]
  },
  {
   "cell_type": "code",
   "execution_count": 49,
   "id": "quarterly-transsexual",
   "metadata": {
    "execution": {
     "iopub.execute_input": "2021-05-22T05:18:03.045310Z",
     "iopub.status.busy": "2021-05-22T05:18:03.044639Z",
     "iopub.status.idle": "2021-05-22T05:18:03.047485Z",
     "shell.execute_reply": "2021-05-22T05:18:03.046867Z",
     "shell.execute_reply.started": "2021-05-22T05:17:10.219572Z"
    },
    "papermill": {
     "duration": 0.074637,
     "end_time": "2021-05-22T05:18:03.047621",
     "exception": false,
     "start_time": "2021-05-22T05:18:02.972984",
     "status": "completed"
    },
    "tags": []
   },
   "outputs": [],
   "source": [
    "rnd_clf=RandomForestClassifier(max_depth=2)"
   ]
  },
  {
   "cell_type": "code",
   "execution_count": 50,
   "id": "treated-receipt",
   "metadata": {
    "execution": {
     "iopub.execute_input": "2021-05-22T05:18:03.219631Z",
     "iopub.status.busy": "2021-05-22T05:18:03.209204Z",
     "iopub.status.idle": "2021-05-22T05:18:03.473235Z",
     "shell.execute_reply": "2021-05-22T05:18:03.472577Z",
     "shell.execute_reply.started": "2021-05-22T05:17:10.239707Z"
    },
    "papermill": {
     "duration": 0.359548,
     "end_time": "2021-05-22T05:18:03.473472",
     "exception": false,
     "start_time": "2021-05-22T05:18:03.113924",
     "status": "completed"
    },
    "tags": []
   },
   "outputs": [
    {
     "data": {
      "text/plain": [
       "RandomForestClassifier(max_depth=2)"
      ]
     },
     "execution_count": 50,
     "metadata": {},
     "output_type": "execute_result"
    }
   ],
   "source": [
    "rnd_clf.fit(X,y)"
   ]
  },
  {
   "cell_type": "code",
   "execution_count": 51,
   "id": "removed-toner",
   "metadata": {
    "execution": {
     "iopub.execute_input": "2021-05-22T05:18:03.621651Z",
     "iopub.status.busy": "2021-05-22T05:18:03.620831Z",
     "iopub.status.idle": "2021-05-22T05:18:03.624451Z",
     "shell.execute_reply": "2021-05-22T05:18:03.625041Z",
     "shell.execute_reply.started": "2021-05-22T05:17:10.518775Z"
    },
    "papermill": {
     "duration": 0.078367,
     "end_time": "2021-05-22T05:18:03.625233",
     "exception": false,
     "start_time": "2021-05-22T05:18:03.546866",
     "status": "completed"
    },
    "tags": []
   },
   "outputs": [],
   "source": [
    "## creating the test set"
   ]
  },
  {
   "cell_type": "code",
   "execution_count": 52,
   "id": "opening-colony",
   "metadata": {
    "execution": {
     "iopub.execute_input": "2021-05-22T05:18:03.769923Z",
     "iopub.status.busy": "2021-05-22T05:18:03.768899Z",
     "iopub.status.idle": "2021-05-22T05:18:03.772230Z",
     "shell.execute_reply": "2021-05-22T05:18:03.771603Z",
     "shell.execute_reply.started": "2021-05-22T05:17:10.527570Z"
    },
    "papermill": {
     "duration": 0.076125,
     "end_time": "2021-05-22T05:18:03.772373",
     "exception": false,
     "start_time": "2021-05-22T05:18:03.696248",
     "status": "completed"
    },
    "tags": []
   },
   "outputs": [],
   "source": [
    "X_test=strat_test_set"
   ]
  },
  {
   "cell_type": "code",
   "execution_count": 53,
   "id": "baking-sullivan",
   "metadata": {
    "execution": {
     "iopub.execute_input": "2021-05-22T05:18:03.911155Z",
     "iopub.status.busy": "2021-05-22T05:18:03.910458Z",
     "iopub.status.idle": "2021-05-22T05:18:03.914377Z",
     "shell.execute_reply": "2021-05-22T05:18:03.914898Z",
     "shell.execute_reply.started": "2021-05-22T05:17:10.540323Z"
    },
    "papermill": {
     "duration": 0.073967,
     "end_time": "2021-05-22T05:18:03.915071",
     "exception": false,
     "start_time": "2021-05-22T05:18:03.841104",
     "status": "completed"
    },
    "tags": []
   },
   "outputs": [],
   "source": [
    "y_test=X_test['stroke']"
   ]
  },
  {
   "cell_type": "code",
   "execution_count": 54,
   "id": "going-platinum",
   "metadata": {
    "execution": {
     "iopub.execute_input": "2021-05-22T05:18:04.056714Z",
     "iopub.status.busy": "2021-05-22T05:18:04.056032Z",
     "iopub.status.idle": "2021-05-22T05:18:04.067347Z",
     "shell.execute_reply": "2021-05-22T05:18:04.067832Z",
     "shell.execute_reply.started": "2021-05-22T05:17:10.555184Z"
    },
    "papermill": {
     "duration": 0.084209,
     "end_time": "2021-05-22T05:18:04.068016",
     "exception": false,
     "start_time": "2021-05-22T05:18:03.983807",
     "status": "completed"
    },
    "tags": []
   },
   "outputs": [],
   "source": [
    "X_test[list_cat]=cat_imp.transform(X_test[list_cat])"
   ]
  },
  {
   "cell_type": "code",
   "execution_count": 55,
   "id": "foster-alloy",
   "metadata": {
    "execution": {
     "iopub.execute_input": "2021-05-22T05:18:04.207290Z",
     "iopub.status.busy": "2021-05-22T05:18:04.206587Z",
     "iopub.status.idle": "2021-05-22T05:18:04.216537Z",
     "shell.execute_reply": "2021-05-22T05:18:04.217009Z",
     "shell.execute_reply.started": "2021-05-22T05:17:10.578519Z"
    },
    "papermill": {
     "duration": 0.081771,
     "end_time": "2021-05-22T05:18:04.217204",
     "exception": false,
     "start_time": "2021-05-22T05:18:04.135433",
     "status": "completed"
    },
    "tags": []
   },
   "outputs": [],
   "source": [
    "X_test[continuous_variables]=cont_imp.transform(X_test[continuous_variables])"
   ]
  },
  {
   "cell_type": "code",
   "execution_count": 56,
   "id": "adequate-subdivision",
   "metadata": {
    "execution": {
     "iopub.execute_input": "2021-05-22T05:18:04.356189Z",
     "iopub.status.busy": "2021-05-22T05:18:04.355553Z",
     "iopub.status.idle": "2021-05-22T05:18:04.367924Z",
     "shell.execute_reply": "2021-05-22T05:18:04.368583Z",
     "shell.execute_reply.started": "2021-05-22T05:17:10.596239Z"
    },
    "papermill": {
     "duration": 0.084079,
     "end_time": "2021-05-22T05:18:04.368802",
     "exception": false,
     "start_time": "2021-05-22T05:18:04.284723",
     "status": "completed"
    },
    "tags": []
   },
   "outputs": [],
   "source": [
    "X_test=full_pipeline.transform(X_test)"
   ]
  },
  {
   "cell_type": "code",
   "execution_count": 57,
   "id": "solar-amount",
   "metadata": {
    "execution": {
     "iopub.execute_input": "2021-05-22T05:18:04.508600Z",
     "iopub.status.busy": "2021-05-22T05:18:04.507960Z",
     "iopub.status.idle": "2021-05-22T05:18:04.529133Z",
     "shell.execute_reply": "2021-05-22T05:18:04.529666Z",
     "shell.execute_reply.started": "2021-05-22T05:17:10.619765Z"
    },
    "papermill": {
     "duration": 0.093439,
     "end_time": "2021-05-22T05:18:04.529863",
     "exception": false,
     "start_time": "2021-05-22T05:18:04.436424",
     "status": "completed"
    },
    "tags": []
   },
   "outputs": [],
   "source": [
    "y_pred=rnd_clf.predict(X_test)"
   ]
  },
  {
   "cell_type": "code",
   "execution_count": 58,
   "id": "automated-triumph",
   "metadata": {
    "execution": {
     "iopub.execute_input": "2021-05-22T05:18:04.669501Z",
     "iopub.status.busy": "2021-05-22T05:18:04.668780Z",
     "iopub.status.idle": "2021-05-22T05:18:04.672069Z",
     "shell.execute_reply": "2021-05-22T05:18:04.672546Z",
     "shell.execute_reply.started": "2021-05-22T05:17:10.647657Z"
    },
    "papermill": {
     "duration": 0.074616,
     "end_time": "2021-05-22T05:18:04.672724",
     "exception": false,
     "start_time": "2021-05-22T05:18:04.598108",
     "status": "completed"
    },
    "tags": []
   },
   "outputs": [],
   "source": [
    "from sklearn.metrics import accuracy_score"
   ]
  },
  {
   "cell_type": "code",
   "execution_count": 59,
   "id": "comprehensive-format",
   "metadata": {
    "execution": {
     "iopub.execute_input": "2021-05-22T05:18:04.810578Z",
     "iopub.status.busy": "2021-05-22T05:18:04.809868Z",
     "iopub.status.idle": "2021-05-22T05:18:04.814098Z",
     "shell.execute_reply": "2021-05-22T05:18:04.814653Z",
     "shell.execute_reply.started": "2021-05-22T05:17:10.652823Z"
    },
    "papermill": {
     "duration": 0.074987,
     "end_time": "2021-05-22T05:18:04.814847",
     "exception": false,
     "start_time": "2021-05-22T05:18:04.739860",
     "status": "completed"
    },
    "tags": []
   },
   "outputs": [],
   "source": [
    "score=accuracy_score(y_test,y_pred)"
   ]
  },
  {
   "cell_type": "code",
   "execution_count": 60,
   "id": "involved-samoa",
   "metadata": {
    "execution": {
     "iopub.execute_input": "2021-05-22T05:18:04.954644Z",
     "iopub.status.busy": "2021-05-22T05:18:04.953948Z",
     "iopub.status.idle": "2021-05-22T05:18:04.960048Z",
     "shell.execute_reply": "2021-05-22T05:18:04.959514Z",
     "shell.execute_reply.started": "2021-05-22T05:17:10.670199Z"
    },
    "papermill": {
     "duration": 0.076902,
     "end_time": "2021-05-22T05:18:04.960193",
     "exception": false,
     "start_time": "2021-05-22T05:18:04.883291",
     "status": "completed"
    },
    "tags": []
   },
   "outputs": [
    {
     "data": {
      "text/plain": [
       "0.9510763209393346"
      ]
     },
     "execution_count": 60,
     "metadata": {},
     "output_type": "execute_result"
    }
   ],
   "source": [
    "score"
   ]
  },
  {
   "cell_type": "code",
   "execution_count": null,
   "id": "checked-possession",
   "metadata": {
    "papermill": {
     "duration": 0.068724,
     "end_time": "2021-05-22T05:18:05.098432",
     "exception": false,
     "start_time": "2021-05-22T05:18:05.029708",
     "status": "completed"
    },
    "tags": []
   },
   "outputs": [],
   "source": []
  }
 ],
 "metadata": {
  "kernelspec": {
   "display_name": "Python 3",
   "language": "python",
   "name": "python3"
  },
  "language_info": {
   "codemirror_mode": {
    "name": "ipython",
    "version": 3
   },
   "file_extension": ".py",
   "mimetype": "text/x-python",
   "name": "python",
   "nbconvert_exporter": "python",
   "pygments_lexer": "ipython3",
   "version": "3.7.9"
  },
  "papermill": {
   "default_parameters": {},
   "duration": 23.659036,
   "end_time": "2021-05-22T05:18:05.879083",
   "environment_variables": {},
   "exception": null,
   "input_path": "__notebook__.ipynb",
   "output_path": "__notebook__.ipynb",
   "parameters": {},
   "start_time": "2021-05-22T05:17:42.220047",
   "version": "2.3.2"
  }
 },
 "nbformat": 4,
 "nbformat_minor": 5
}
